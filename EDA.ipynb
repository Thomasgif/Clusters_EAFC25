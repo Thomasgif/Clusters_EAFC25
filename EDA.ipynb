{
  "nbformat": 4,
  "nbformat_minor": 0,
  "metadata": {
    "colab": {
      "provenance": [],
      "collapsed_sections": [
        "LIxnLfqOqfpY",
        "0h0dnkURq-DH",
        "kGrBV0O5rqkf",
        "hHxtmREi2hnn",
        "8-7kDrjx5pTP",
        "1WqaeI_8vJ8Z",
        "Qh_2EMBu2M2a",
        "W9Ygatv79Iyg",
        "ars8_k2Arieh"
      ]
    },
    "kernelspec": {
      "name": "python3",
      "display_name": "Python 3"
    },
    "language_info": {
      "name": "python"
    }
  },
  "cells": [
    {
      "cell_type": "markdown",
      "source": [
        "#Pre-procesamiento\n"
      ],
      "metadata": {
        "id": "LIxnLfqOqfpY"
      }
    },
    {
      "cell_type": "markdown",
      "source": [
        "##1. Importar librerías\n"
      ],
      "metadata": {
        "id": "0h0dnkURq-DH"
      }
    },
    {
      "cell_type": "code",
      "source": [
        "import numpy as np\n",
        "import matplotlib.pyplot as plt\n",
        "import pandas as pd\n",
        "import seaborn as sns"
      ],
      "metadata": {
        "id": "8G3-VEQQrBfn"
      },
      "execution_count": 3,
      "outputs": []
    },
    {
      "cell_type": "markdown",
      "source": [
        "##2. Importar datos\n"
      ],
      "metadata": {
        "id": "kGrBV0O5rqkf"
      }
    },
    {
      "cell_type": "code",
      "source": [
        "url = 'https://docs.google.com/spreadsheets/d/e/2PACX-1vRulJs5L9Ish3veRpqpV2MjcWZyakidXTkfM7fDP37p2Xfxo5OtNlNHlQhyY_auxQCJf0e84FuDF_f7/pub?output=csv'\n",
        "datos = pd.read_csv(url)\n",
        "datos.head(5)"
      ],
      "metadata": {
        "id": "3CT2qQzvrxCf"
      },
      "execution_count": null,
      "outputs": []
    },
    {
      "cell_type": "code",
      "source": [
        "column_objetivo = ['Name', 'OVR', 'PAC', 'SHO', 'PAS', 'DRI', 'DEF', 'PHY', 'Acceleration',\n",
        "       'Sprint Speed', 'Positioning', 'Finishing', 'Shot Power', 'Long Shots',\n",
        "       'Volleys', 'Penalties', 'Vision', 'Crossing', 'Free Kick Accuracy',\n",
        "       'Short Passing', 'Long Passing', 'Curve', 'Dribbling', 'Agility',\n",
        "       'Balance', 'Reactions', 'Ball Control', 'Composure', 'Interceptions',\n",
        "       'Heading Accuracy', 'Def Awareness', 'Standing Tackle',\n",
        "       'Sliding Tackle', 'Jumping', 'Stamina', 'Strength', 'Aggression',\n",
        "       'Weak foot', 'Skill moves', 'Age', 'GK Diving', 'GK Handling',\n",
        "       'GK Kicking', 'GK Positioning', 'GK Reflexes', 'Preferred foot',]\n",
        "column = datos.columns\n",
        "\n",
        "for col in column:\n",
        "  if col not in column_objetivo:\n",
        "    datos.drop(col, axis = 1, inplace = True)\n",
        "  else:\n",
        "    datos[col] = datos[col]\n"
      ],
      "metadata": {
        "id": "CUdPJaUP03p2"
      },
      "execution_count": 5,
      "outputs": []
    },
    {
      "cell_type": "code",
      "source": [
        "datos.info()"
      ],
      "metadata": {
        "id": "Ft6UOmkmtpx0"
      },
      "execution_count": null,
      "outputs": []
    },
    {
      "cell_type": "code",
      "source": [
        "datos.describe().T"
      ],
      "metadata": {
        "id": "QdI4O7lMvTPX"
      },
      "execution_count": null,
      "outputs": []
    },
    {
      "cell_type": "markdown",
      "source": [
        "##3. Imputación de datos faltantes"
      ],
      "metadata": {
        "id": "Qh_2EMBu2M2a"
      }
    },
    {
      "cell_type": "code",
      "source": [
        "datos.isna().sum()  #Verfificar datos faltantes =null"
      ],
      "metadata": {
        "id": "u-1tXDE78WrC",
        "collapsed": true
      },
      "execution_count": null,
      "outputs": []
    },
    {
      "cell_type": "code",
      "source": [
        "#imputar datos faltantes para las estadisticas de arquero de otros jugadores de NaN a 0\n",
        "gk_columns = ['GK Diving', 'GK Handling', 'GK Kicking', 'GK Positioning', 'GK Reflexes']\n",
        "datos[gk_columns] = datos[gk_columns].fillna(0)"
      ],
      "metadata": {
        "id": "Y18Wt0_T8xaS"
      },
      "execution_count": 9,
      "outputs": []
    },
    {
      "cell_type": "code",
      "source": [
        "x = datos.iloc[:,1:].values #filas, columnas\n",
        "x"
      ],
      "metadata": {
        "id": "45nyY3Fn9g3i"
      },
      "execution_count": null,
      "outputs": []
    },
    {
      "cell_type": "code",
      "source": [
        "#codificar el pie preferido en 0 y 1\n",
        "from sklearn.preprocessing import LabelEncoder\n",
        "\n",
        "#crear codificador\n",
        "le = LabelEncoder()\n",
        "\n",
        "x[:,-7] = le.fit_transform(x[:,-7])\n",
        "\n",
        "#verficar resultados\n",
        "print(x[:,-7])"
      ],
      "metadata": {
        "id": "dpQ36r7IcKYt"
      },
      "execution_count": null,
      "outputs": []
    },
    {
      "cell_type": "code",
      "source": [
        "type(datos)"
      ],
      "metadata": {
        "collapsed": true,
        "id": "i8ii-taUaNAN"
      },
      "execution_count": null,
      "outputs": []
    },
    {
      "cell_type": "code",
      "source": [
        "df = pd.DataFrame(x)\n",
        "for col in df.columns:\n",
        "  df[col] = pd.to_numeric(df[col], errors='coerce')"
      ],
      "metadata": {
        "id": "huTjeN5sfcdt"
      },
      "execution_count": 13,
      "outputs": []
    },
    {
      "cell_type": "code",
      "source": [
        "X = df.values\n",
        "X"
      ],
      "metadata": {
        "collapsed": true,
        "id": "QN6d_SOthDYF"
      },
      "execution_count": null,
      "outputs": []
    },
    {
      "cell_type": "code",
      "source": [
        "datos = pd.DataFrame(X)\n",
        "datos.to_csv('datos_EASPORT25.csv', index=False)"
      ],
      "metadata": {
        "id": "8n2aaHZX2U2z"
      },
      "execution_count": 15,
      "outputs": []
    },
    {
      "cell_type": "code",
      "source": [
        "datos.shape"
      ],
      "metadata": {
        "id": "mT5y3xHJSouv"
      },
      "execution_count": null,
      "outputs": []
    }
  ]
}